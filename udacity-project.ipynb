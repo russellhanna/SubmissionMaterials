{
  "cells": [
    {
      "cell_type": "code",
      "source": [
        "from azureml.core import Workspace, Experiment\n",
        "\n",
        "# Corrected the below to run within a notebook actually on the studio.\n",
        "# You guys designed this, so I don't understand why you didn't explain the\n",
        "# various ways to run this, if it was your intent that I learn it.\n",
        "\n",
        "ws = Workspace.from_config()\n",
        "\n",
        "exp = Experiment(workspace=ws, name=\"udacity-project\")\n",
        "\n",
        "print('Workspace name: ' + ws.name, \n",
        "      'Azure region: ' + ws.location, \n",
        "      'Subscription id: ' + ws.subscription_id, \n",
        "      'Resource group: ' + ws.resource_group, sep = '\\n')\n",
        "\n",
        "run = exp.start_logging()"
      ],
      "outputs": [
        {
          "output_type": "stream",
          "name": "stdout",
          "text": [
            "Workspace name: quick-starts-ws-137887\n",
            "Azure region: southcentralus\n",
            "Subscription id: f9d5a085-54dc-4215-9ba6-dad5d86e60a0\n",
            "Resource group: aml-quickstarts-137887\n"
          ]
        }
      ],
      "execution_count": 5,
      "metadata": {
        "gather": {
          "logged": 1612714252663
        }
      }
    },
    {
      "cell_type": "code",
      "source": [
        "from azureml.core.compute import ComputeTarget, AmlCompute\n",
        "\n",
        "# TODO: Create compute cluster\n",
        "# Use vm_size = \"Standard_D2_V2\" in your provisioning configuration.\n",
        "# max_nodes should be no greater than 4.\n",
        "\n",
        "### YOUR CODE HERE ###\n",
        "\n",
        "# Looks like you've imported an unnecessary object, \"ComputeTarget\".\n",
        "# You want a standard virtual machine, you got one.\n",
        "# I don't see why you called it a \"compute cluster\" in line 3, if all you want is a CPU vm.\n",
        "# The \"max_nodes\" call is unnecessary, unless I'm wrong. Since your code is randomly buggy, I'm ignoring it.\n",
        "\n",
        "from azureml.core.runconfig import RunConfiguration\n",
        "# You've already imported AmlCompute, so I'll leave that off, but \"explicit is better than implicit\" right?\n",
        "# from azureml.core.runconfig import ComputeTarget\n",
        "\n",
        "# This part is for me, so I can see what I'm doing.\n",
        "list_vms = AmlCompute.supported_vmsizes(workspace=ws)\n",
        "print(list_vms)\n",
        "\n",
        "### Here is my solution to specifying the vm_size variable ###\n",
        "compute_config = RunConfiguration()\n",
        "compute_config.amlcompute.vm_size = \"STANDARD_D1_V2\"\n",
        "\n",
        "# I don't read minds, but in case your lack of direction turns out to be an error, you could have simply referred me to\n",
        "# the Microsoft tutorial, where there's a fairly complicated, but disaster-resistant\n",
        "# block of code that would find or add a true \"cluster\"...And yes this does include reference to nodes.\n",
        "\n",
        "# Here's the full monty from the tutorial\n",
        "# compute_name = os.environ.get('AML_COMPUTE_CLUSTER_NAME', 'cpu-cluster')\n",
        "# compute_min_nodes = os.environ.get('AML_COMPUTE_CLUSTER_MIN_NODES', 0)\n",
        "# compute_min_nodes = os.environ.get('AML_COMPUTE_CLUSTER_MAX_NODES', 4)\n",
        "\n",
        "# The following uses CPU for virtual machine, but change \"STANDARD_D2_V2\" to \"STANDARD_NC6\" to get GPU.\n",
        "# vm_size = os.environ.get('AML_COMPUTE_CLUSTER_SKU', 'STANDARD_D2_V2')\n",
        "\n",
        "# The following code lines show a check for existing compute resources... Seems like a good idea to me.\n",
        "# if compute_name in ws.compute_targets:\n",
        "#     compute_target = ws.compute_targets[compute_name]\n",
        "#     if compute_target and type(compute_target) is AmlCompute:\n",
        "#         print('found compute target. just use it. '  + compute_name)\n",
        "# else:\n",
        "#     print('creating new compute target...')\n",
        "#     provisioning_config = AmlCompute.provisioning_configuration(vm_size=vm_size, min_nodes=compute_min_nodes, max_nodes=compute_max_nodes)\n",
        "\n",
        "# creating the cluster, finally...\n",
        "# compute_target = ComputeTarget.create(ws, compute_name, provisioning_config)\n",
        "\n",
        "# This part I need to read up later:\n",
        "# Microsoft tutorial reads, \"can poll for a minimum number of notes and for a specific timeout.\"\n",
        "# and, \"if no min node count is provided it will use the scale setting for the cluster\"\n",
        "# compute_target.wait_for_completion(show_output=True, mind_node_count=None, timeout_in_minutes=20)\n",
        "\n",
        "# finally, looks like a best practice would be to add this line to keep status so we can see what's happening.\n",
        "# For a more detailed view of current AmlCompute status, use get_status()\n",
        "# print(compute_target.get_status().serialize())\n",
        "# note that the above line will only work in conjunction with the rest of this block, see line 38 and/or line 46.\n",
        "\n",
        "\n",
        "\n",
        "\n"
      ],
      "outputs": [
        {
          "output_type": "stream",
          "name": "stdout",
          "text": [
            "[{'name': 'Standard_D1_v2', 'vCPUs': 1, 'gpus': 0, 'memoryGB': 3.5, 'maxResourceVolumeMB': 51200}, {'name': 'Standard_D2_v2', 'vCPUs': 2, 'gpus': 0, 'memoryGB': 7.0, 'maxResourceVolumeMB': 102400}, {'name': 'Standard_D3_v2', 'vCPUs': 4, 'gpus': 0, 'memoryGB': 14.0, 'maxResourceVolumeMB': 204800}, {'name': 'Standard_D4_v2', 'vCPUs': 8, 'gpus': 0, 'memoryGB': 28.0, 'maxResourceVolumeMB': 409600}, {'name': 'Standard_D11_v2', 'vCPUs': 2, 'gpus': 0, 'memoryGB': 14.0, 'maxResourceVolumeMB': 102400}, {'name': 'Standard_D12_v2', 'vCPUs': 4, 'gpus': 0, 'memoryGB': 28.0, 'maxResourceVolumeMB': 204800}, {'name': 'Standard_D13_v2', 'vCPUs': 8, 'gpus': 0, 'memoryGB': 56.0, 'maxResourceVolumeMB': 409600}, {'name': 'Standard_D14_v2', 'vCPUs': 16, 'gpus': 0, 'memoryGB': 112.0, 'maxResourceVolumeMB': 819200}, {'name': 'Standard_D15_v2', 'vCPUs': 20, 'gpus': 0, 'memoryGB': 140.0, 'maxResourceVolumeMB': 1024000}, {'name': 'Standard_DS1_v2', 'vCPUs': 1, 'gpus': 0, 'memoryGB': 3.5, 'maxResourceVolumeMB': 7168}, {'name': 'Standard_DS2_v2', 'vCPUs': 2, 'gpus': 0, 'memoryGB': 7.0, 'maxResourceVolumeMB': 14336}, {'name': 'Standard_DS3_v2', 'vCPUs': 4, 'gpus': 0, 'memoryGB': 14.0, 'maxResourceVolumeMB': 28672}, {'name': 'Standard_DS4_v2', 'vCPUs': 8, 'gpus': 0, 'memoryGB': 28.0, 'maxResourceVolumeMB': 57344}, {'name': 'Standard_DS5_v2', 'vCPUs': 16, 'gpus': 0, 'memoryGB': 56.0, 'maxResourceVolumeMB': 114688}, {'name': 'Standard_DS11_v2', 'vCPUs': 2, 'gpus': 0, 'memoryGB': 14.0, 'maxResourceVolumeMB': 28672}, {'name': 'Standard_DS12_v2', 'vCPUs': 4, 'gpus': 0, 'memoryGB': 28.0, 'maxResourceVolumeMB': 57344}, {'name': 'Standard_DS13_v2', 'vCPUs': 8, 'gpus': 0, 'memoryGB': 56.0, 'maxResourceVolumeMB': 114688}, {'name': 'Standard_DS14_v2', 'vCPUs': 16, 'gpus': 0, 'memoryGB': 112.0, 'maxResourceVolumeMB': 229376}, {'name': 'Standard_DS15_v2', 'vCPUs': 20, 'gpus': 0, 'memoryGB': 140.0, 'maxResourceVolumeMB': 286720}, {'name': 'Standard_D2_v3', 'vCPUs': 2, 'gpus': 0, 'memoryGB': 8.0, 'maxResourceVolumeMB': 51200}, {'name': 'Standard_D4_v3', 'vCPUs': 4, 'gpus': 0, 'memoryGB': 16.0, 'maxResourceVolumeMB': 102400}, {'name': 'Standard_D8_v3', 'vCPUs': 8, 'gpus': 0, 'memoryGB': 32.0, 'maxResourceVolumeMB': 204800}, {'name': 'Standard_D16_v3', 'vCPUs': 16, 'gpus': 0, 'memoryGB': 64.0, 'maxResourceVolumeMB': 409600}, {'name': 'Standard_D32_v3', 'vCPUs': 32, 'gpus': 0, 'memoryGB': 128.0, 'maxResourceVolumeMB': 819200}, {'name': 'Standard_D64_v3', 'vCPUs': 64, 'gpus': 0, 'memoryGB': 256.0, 'maxResourceVolumeMB': 1638400}, {'name': 'Standard_D2s_v3', 'vCPUs': 2, 'gpus': 0, 'memoryGB': 8.0, 'maxResourceVolumeMB': 16384}, {'name': 'Standard_D4s_v3', 'vCPUs': 4, 'gpus': 0, 'memoryGB': 16.0, 'maxResourceVolumeMB': 32768}, {'name': 'Standard_D8s_v3', 'vCPUs': 8, 'gpus': 0, 'memoryGB': 32.0, 'maxResourceVolumeMB': 65536}, {'name': 'Standard_D16s_v3', 'vCPUs': 16, 'gpus': 0, 'memoryGB': 64.0, 'maxResourceVolumeMB': 131072}, {'name': 'Standard_D32s_v3', 'vCPUs': 32, 'gpus': 0, 'memoryGB': 128.0, 'maxResourceVolumeMB': 262144}, {'name': 'Standard_D64s_v3', 'vCPUs': 64, 'gpus': 0, 'memoryGB': 256.0, 'maxResourceVolumeMB': 524288}, {'name': 'Standard_E2_v3', 'vCPUs': 2, 'gpus': 0, 'memoryGB': 16.0, 'maxResourceVolumeMB': 51200}, {'name': 'Standard_E4_v3', 'vCPUs': 4, 'gpus': 0, 'memoryGB': 32.0, 'maxResourceVolumeMB': 102400}, {'name': 'Standard_E8_v3', 'vCPUs': 8, 'gpus': 0, 'memoryGB': 64.0, 'maxResourceVolumeMB': 204800}, {'name': 'Standard_E16_v3', 'vCPUs': 16, 'gpus': 0, 'memoryGB': 128.0, 'maxResourceVolumeMB': 409600}, {'name': 'Standard_D1', 'vCPUs': 1, 'gpus': 0, 'memoryGB': 3.5, 'maxResourceVolumeMB': 51200}, {'name': 'Standard_D2', 'vCPUs': 2, 'gpus': 0, 'memoryGB': 7.0, 'maxResourceVolumeMB': 102400}, {'name': 'Standard_D3', 'vCPUs': 4, 'gpus': 0, 'memoryGB': 14.0, 'maxResourceVolumeMB': 204800}, {'name': 'Standard_D4', 'vCPUs': 8, 'gpus': 0, 'memoryGB': 28.0, 'maxResourceVolumeMB': 409600}, {'name': 'Standard_D11', 'vCPUs': 2, 'gpus': 0, 'memoryGB': 14.0, 'maxResourceVolumeMB': 102400}, {'name': 'Standard_D12', 'vCPUs': 4, 'gpus': 0, 'memoryGB': 28.0, 'maxResourceVolumeMB': 204800}, {'name': 'Standard_D13', 'vCPUs': 8, 'gpus': 0, 'memoryGB': 56.0, 'maxResourceVolumeMB': 409600}, {'name': 'Standard_D14', 'vCPUs': 16, 'gpus': 0, 'memoryGB': 112.0, 'maxResourceVolumeMB': 819200}, {'name': 'Standard_NV6', 'vCPUs': 6, 'gpus': 1, 'memoryGB': 56.0, 'maxResourceVolumeMB': 389120}, {'name': 'Standard_NV12', 'vCPUs': 12, 'gpus': 2, 'memoryGB': 112.0, 'maxResourceVolumeMB': 696320}, {'name': 'Standard_NV24', 'vCPUs': 24, 'gpus': 4, 'memoryGB': 224.0, 'maxResourceVolumeMB': 1474560}, {'name': 'Standard_NC6s_v3', 'vCPUs': 6, 'gpus': 1, 'memoryGB': 112.0, 'maxResourceVolumeMB': 344064}, {'name': 'Standard_NC12s_v3', 'vCPUs': 12, 'gpus': 2, 'memoryGB': 224.0, 'maxResourceVolumeMB': 688128}, {'name': 'Standard_NC24rs_v3', 'vCPUs': 24, 'gpus': 4, 'memoryGB': 448.0, 'maxResourceVolumeMB': 1376256}, {'name': 'Standard_NC24s_v3', 'vCPUs': 24, 'gpus': 4, 'memoryGB': 448.0, 'maxResourceVolumeMB': 1376256}, {'name': 'Standard_HB60rs', 'vCPUs': 60, 'gpus': 0, 'memoryGB': 223.52, 'maxResourceVolumeMB': 716800}, {'name': 'Standard_F2s_v2', 'vCPUs': 2, 'gpus': 0, 'memoryGB': 4.0, 'maxResourceVolumeMB': 16384}, {'name': 'Standard_F4s_v2', 'vCPUs': 4, 'gpus': 0, 'memoryGB': 8.0, 'maxResourceVolumeMB': 32768}, {'name': 'Standard_F8s_v2', 'vCPUs': 8, 'gpus': 0, 'memoryGB': 16.0, 'maxResourceVolumeMB': 65536}, {'name': 'Standard_F16s_v2', 'vCPUs': 16, 'gpus': 0, 'memoryGB': 32.0, 'maxResourceVolumeMB': 131072}, {'name': 'Standard_F32s_v2', 'vCPUs': 32, 'gpus': 0, 'memoryGB': 64.0, 'maxResourceVolumeMB': 262144}, {'name': 'Standard_F64s_v2', 'vCPUs': 64, 'gpus': 0, 'memoryGB': 128.0, 'maxResourceVolumeMB': 524288}, {'name': 'Standard_F72s_v2', 'vCPUs': 72, 'gpus': 0, 'memoryGB': 144.0, 'maxResourceVolumeMB': 589824}, {'name': 'Standard_M8ms', 'vCPUs': 8, 'gpus': 0, 'memoryGB': 218.75, 'maxResourceVolumeMB': 256000}, {'name': 'Standard_M16ms', 'vCPUs': 16, 'gpus': 0, 'memoryGB': 437.5, 'maxResourceVolumeMB': 512000}, {'name': 'Standard_M32ls', 'vCPUs': 32, 'gpus': 0, 'memoryGB': 256.0, 'maxResourceVolumeMB': 1024000}, {'name': 'Standard_M32ms', 'vCPUs': 32, 'gpus': 0, 'memoryGB': 875.0, 'maxResourceVolumeMB': 1024000}, {'name': 'Standard_M32ts', 'vCPUs': 32, 'gpus': 0, 'memoryGB': 192.0, 'maxResourceVolumeMB': 1024000}, {'name': 'Standard_M64ls', 'vCPUs': 64, 'gpus': 0, 'memoryGB': 512.0, 'maxResourceVolumeMB': 2048000}, {'name': 'Standard_M64ms', 'vCPUs': 64, 'gpus': 0, 'memoryGB': 1750.0, 'maxResourceVolumeMB': 2048000}, {'name': 'Standard_M64s', 'vCPUs': 64, 'gpus': 0, 'memoryGB': 1000.0, 'maxResourceVolumeMB': 2048000}, {'name': 'Standard_M128ms', 'vCPUs': 128, 'gpus': 0, 'memoryGB': 3800.0, 'maxResourceVolumeMB': 4096000}, {'name': 'Standard_M128s', 'vCPUs': 128, 'gpus': 0, 'memoryGB': 2000.0, 'maxResourceVolumeMB': 4096000}, {'name': 'Standard_M64', 'vCPUs': 64, 'gpus': 0, 'memoryGB': 1000.0, 'maxResourceVolumeMB': 8192000}, {'name': 'Standard_M64m', 'vCPUs': 64, 'gpus': 0, 'memoryGB': 1750.0, 'maxResourceVolumeMB': 8192000}, {'name': 'Standard_M128', 'vCPUs': 128, 'gpus': 0, 'memoryGB': 2000.0, 'maxResourceVolumeMB': 16384000}, {'name': 'Standard_M128m', 'vCPUs': 128, 'gpus': 0, 'memoryGB': 3800.0, 'maxResourceVolumeMB': 16384000}, {'name': 'Standard_D2ds_v4', 'vCPUs': 2, 'gpus': 0, 'memoryGB': 8.0, 'maxResourceVolumeMB': 76800}, {'name': 'Standard_D4ds_v4', 'vCPUs': 4, 'gpus': 0, 'memoryGB': 16.0, 'maxResourceVolumeMB': 153600}, {'name': 'Standard_D8ds_v4', 'vCPUs': 8, 'gpus': 0, 'memoryGB': 32.0, 'maxResourceVolumeMB': 307200}, {'name': 'Standard_D16ds_v4', 'vCPUs': 16, 'gpus': 0, 'memoryGB': 64.0, 'maxResourceVolumeMB': 614400}, {'name': 'Standard_D32ds_v4', 'vCPUs': 32, 'gpus': 0, 'memoryGB': 128.0, 'maxResourceVolumeMB': 1228800}, {'name': 'Standard_D48ds_v4', 'vCPUs': 48, 'gpus': 0, 'memoryGB': 192.0, 'maxResourceVolumeMB': 1843200}, {'name': 'Standard_D64ds_v4', 'vCPUs': 64, 'gpus': 0, 'memoryGB': 256.0, 'maxResourceVolumeMB': 2457600}, {'name': 'Standard_E2a_v4', 'vCPUs': 2, 'gpus': 0, 'memoryGB': 16.0, 'maxResourceVolumeMB': 51200}, {'name': 'Standard_E4a_v4', 'vCPUs': 4, 'gpus': 0, 'memoryGB': 32.0, 'maxResourceVolumeMB': 102400}, {'name': 'Standard_E8a_v4', 'vCPUs': 8, 'gpus': 0, 'memoryGB': 64.0, 'maxResourceVolumeMB': 204800}, {'name': 'Standard_E16a_v4', 'vCPUs': 16, 'gpus': 0, 'memoryGB': 128.0, 'maxResourceVolumeMB': 409600}, {'name': 'Standard_E32a_v4', 'vCPUs': 32, 'gpus': 0, 'memoryGB': 256.0, 'maxResourceVolumeMB': 819200}, {'name': 'Standard_E48a_v4', 'vCPUs': 48, 'gpus': 0, 'memoryGB': 384.0, 'maxResourceVolumeMB': 1228800}, {'name': 'Standard_E64a_v4', 'vCPUs': 64, 'gpus': 0, 'memoryGB': 512.0, 'maxResourceVolumeMB': 1638400}, {'name': 'Standard_E96a_v4', 'vCPUs': 96, 'gpus': 0, 'memoryGB': 672.0, 'maxResourceVolumeMB': 2457600}, {'name': 'Standard_NC6', 'vCPUs': 6, 'gpus': 1, 'memoryGB': 56.0, 'maxResourceVolumeMB': 389120}, {'name': 'Standard_NC12', 'vCPUs': 12, 'gpus': 2, 'memoryGB': 112.0, 'maxResourceVolumeMB': 696320}, {'name': 'Standard_NC24', 'vCPUs': 24, 'gpus': 4, 'memoryGB': 224.0, 'maxResourceVolumeMB': 1474560}, {'name': 'Standard_HC44rs', 'vCPUs': 44, 'gpus': 0, 'memoryGB': 327.83, 'maxResourceVolumeMB': 716800}, {'name': 'Standard_HB120rs_v2', 'vCPUs': 120, 'gpus': 0, 'memoryGB': 468.75, 'maxResourceVolumeMB': 960000}, {'name': 'Standard_NC24r', 'vCPUs': 24, 'gpus': 4, 'memoryGB': 224.0, 'maxResourceVolumeMB': 1474560}, {'name': 'Standard_NC6_Promo', 'vCPUs': 6, 'gpus': 1, 'memoryGB': 56.0, 'maxResourceVolumeMB': 389120}, {'name': 'Standard_NC12_Promo', 'vCPUs': 12, 'gpus': 2, 'memoryGB': 112.0, 'maxResourceVolumeMB': 696320}, {'name': 'Standard_NC24_Promo', 'vCPUs': 24, 'gpus': 4, 'memoryGB': 224.0, 'maxResourceVolumeMB': 1474560}, {'name': 'Standard_NC24r_Promo', 'vCPUs': 24, 'gpus': 4, 'memoryGB': 224.0, 'maxResourceVolumeMB': 1474560}, {'name': 'Standard_ND40rs_v2', 'vCPUs': 40, 'gpus': 8, 'memoryGB': 672.0, 'maxResourceVolumeMB': 2969600}, {'name': 'Standard_NV12s_v3', 'vCPUs': 12, 'gpus': 1, 'memoryGB': 112.0, 'maxResourceVolumeMB': 344064}, {'name': 'Standard_NV24s_v3', 'vCPUs': 24, 'gpus': 2, 'memoryGB': 224.0, 'maxResourceVolumeMB': 688128}, {'name': 'Standard_NV48s_v3', 'vCPUs': 48, 'gpus': 4, 'memoryGB': 448.0, 'maxResourceVolumeMB': 1376256}, {'name': 'Standard_H8', 'vCPUs': 8, 'gpus': 0, 'memoryGB': 56.0, 'maxResourceVolumeMB': 1024000}, {'name': 'Standard_H16', 'vCPUs': 16, 'gpus': 0, 'memoryGB': 112.0, 'maxResourceVolumeMB': 2048000}, {'name': 'Standard_H8m', 'vCPUs': 8, 'gpus': 0, 'memoryGB': 112.0, 'maxResourceVolumeMB': 1024000}, {'name': 'Standard_H16m', 'vCPUs': 16, 'gpus': 0, 'memoryGB': 224.0, 'maxResourceVolumeMB': 2048000}, {'name': 'Standard_H16r', 'vCPUs': 16, 'gpus': 0, 'memoryGB': 112.0, 'maxResourceVolumeMB': 2048000}, {'name': 'Standard_H16mr', 'vCPUs': 16, 'gpus': 0, 'memoryGB': 224.0, 'maxResourceVolumeMB': 2048000}, {'name': 'Standard_NC6s_v2', 'vCPUs': 6, 'gpus': 1, 'memoryGB': 112.0, 'maxResourceVolumeMB': 344064}, {'name': 'Standard_NC12s_v2', 'vCPUs': 12, 'gpus': 2, 'memoryGB': 224.0, 'maxResourceVolumeMB': 688128}, {'name': 'Standard_NC24rs_v2', 'vCPUs': 24, 'gpus': 4, 'memoryGB': 448.0, 'maxResourceVolumeMB': 1376256}, {'name': 'Standard_NC24s_v2', 'vCPUs': 24, 'gpus': 4, 'memoryGB': 448.0, 'maxResourceVolumeMB': 1376256}]\n"
          ]
        }
      ],
      "execution_count": 27,
      "metadata": {
        "gather": {
          "logged": 1612719163799
        },
        "jupyter": {
          "outputs_hidden": false,
          "source_hidden": false
        },
        "nteract": {
          "transient": {
            "deleting": false
          }
        }
      }
    },
    {
      "cell_type": "code",
      "source": [
        "from azureml.widgets import RunDetails\n",
        "from azureml.train.sklearn import SKLearn\n",
        "from azureml.train.hyperdrive.run import PrimaryMetricGoal\n",
        "from azureml.train.hyperdrive.policy import BanditPolicy\n",
        "from azureml.train.hyperdrive.sampling import RandomParameterSampling\n",
        "from azureml.train.hyperdrive.runconfig import HyperDriveConfig\n",
        "from azureml.train.hyperdrive.parameter_expressions import uniform\n",
        "import os\n",
        "\n",
        "print(\"The given code at least runs.\")\n",
        "\n",
        "# Specify parameter sampler\n",
        "### YOUR CODE HERE ###\n",
        "ps= RandomParameterSampling(  {\n",
        "#    \"learning_rate\": normal(10, 3),\n",
        "    \"keep_probability\": uniform(0.05, 0.1),\n",
        "#    \"batch_size\": choice(16, 32, 64, 128)\n",
        "    }\n",
        ")\n",
        "print(\"The microsoft docs are accurate enough...\")\n",
        "\n",
        "# Specify a Policy\n",
        "# policy = ### YOUR CODE HERE ###\n",
        "policy\n",
        "\n",
        "#if \"training\" not in os.listdir():\n",
        "#    os.mkdir(\"./training\")\n",
        "\n",
        "# Create a SKLearn estimator for use with train.py\n",
        "#est = ### YOUR CODE HERE ###\n",
        "\n",
        "# Create a HyperDriveConfig using the estimator, hyperparameter sampler, and policy.\n",
        "#hyperdrive_config = ### YOUR CODE HERE ###"
      ],
      "outputs": [
        {
          "output_type": "stream",
          "name": "stdout",
          "text": [
            "The given code at least runs.\n",
            "The microsoft docs are accurate enough...\n"
          ]
        }
      ],
      "execution_count": 22,
      "metadata": {
        "gather": {
          "logged": 1612716549866
        },
        "jupyter": {
          "outputs_hidden": false,
          "source_hidden": false
        },
        "nteract": {
          "transient": {
            "deleting": false
          }
        }
      }
    },
    {
      "cell_type": "code",
      "source": [
        "# Submit your hyperdrive run to the experiment and show run details with the widget.\n",
        "\n",
        "### YOUR CODE HERE ###"
      ],
      "outputs": [],
      "execution_count": null,
      "metadata": {}
    },
    {
      "cell_type": "code",
      "source": [
        "import joblib\n",
        "# Get your best run and save the model from that run.\n",
        "\n",
        "### YOUR CODE HERE ###"
      ],
      "outputs": [],
      "execution_count": null,
      "metadata": {
        "gather": {
          "logged": 1598276310862
        },
        "jupyter": {
          "outputs_hidden": false,
          "source_hidden": false
        },
        "nteract": {
          "transient": {
            "deleting": false
          }
        }
      }
    },
    {
      "cell_type": "code",
      "source": [
        "from azureml.data.dataset_factory import TabularDatasetFactory\n",
        "\n",
        "# Create TabularDataset using TabularDatasetFactory\n",
        "# Data is available at: \n",
        "# \"https://automlsamplenotebookdata.blob.core.windows.net/automl-sample-notebook-data/bankmarketing_train.csv\"\n",
        "\n",
        "### YOUR CODE HERE ###"
      ],
      "outputs": [],
      "execution_count": null,
      "metadata": {}
    },
    {
      "cell_type": "code",
      "source": [
        "from train import clean_data\n",
        "\n",
        "# Use the clean_data function to clean your data.\n",
        "x, y = clean_data(### YOUR DATA OBJECT HERE ###)"
      ],
      "outputs": [],
      "execution_count": null,
      "metadata": {
        "gather": {
          "logged": 1598275726969
        },
        "jupyter": {
          "outputs_hidden": false,
          "source_hidden": false
        },
        "nteract": {
          "transient": {
            "deleting": false
          }
        }
      }
    },
    {
      "cell_type": "code",
      "source": [
        "from azureml.train.automl import AutoMLConfig\n",
        "\n",
        "# Set parameters for AutoMLConfig\n",
        "# NOTE: DO NOT CHANGE THE experiment_timeout_minutes PARAMETER OR YOUR INSTANCE WILL TIME OUT.\n",
        "# If you wish to run the experiment longer, you will need to run this notebook in your own\n",
        "# Azure tenant, which will incur personal costs.\n",
        "automl_config = AutoMLConfig(\n",
        "    experiment_timeout_minutes=30,\n",
        "    task=,\n",
        "    primary_metric=,\n",
        "    training_data=,\n",
        "    label_column_name=,\n",
        "    n_cross_validations=)"
      ],
      "outputs": [],
      "execution_count": null,
      "metadata": {
        "gather": {
          "logged": 1598275665403
        },
        "jupyter": {
          "outputs_hidden": false,
          "source_hidden": false
        },
        "nteract": {
          "transient": {
            "deleting": false
          }
        }
      }
    },
    {
      "cell_type": "code",
      "source": [
        "# Submit your automl run\n",
        "\n",
        "### YOUR CODE HERE ###"
      ],
      "outputs": [],
      "execution_count": 2,
      "metadata": {
        "jupyter": {
          "outputs_hidden": false,
          "source_hidden": false
        },
        "nteract": {
          "transient": {
            "deleting": false
          }
        }
      }
    },
    {
      "cell_type": "code",
      "source": [
        "# Retrieve and save your best automl model.\n",
        "\n",
        "### YOUR CODE HERE ###"
      ],
      "outputs": [],
      "execution_count": null,
      "metadata": {}
    }
  ],
  "metadata": {
    "kernel_info": {
      "name": "python3"
    },
    "kernelspec": {
      "name": "python3",
      "language": "python",
      "display_name": "Python 3"
    },
    "language_info": {
      "name": "python",
      "version": "3.6.9",
      "mimetype": "text/x-python",
      "codemirror_mode": {
        "name": "ipython",
        "version": 3
      },
      "pygments_lexer": "ipython3",
      "nbconvert_exporter": "python",
      "file_extension": ".py"
    },
    "nteract": {
      "version": "nteract-front-end@1.0.0"
    }
  },
  "nbformat": 4,
  "nbformat_minor": 2
}
