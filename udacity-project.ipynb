{
  "cells": [
    {
      "cell_type": "code",
      "source": [
        "from azureml.core import Workspace, Experiment\n",
        "\n",
        "# Corrected the below to run within a notebook actually on the studio.\n",
        "# You guys designed this, so I don't understand why you didn't explain the\n",
        "# various ways to run this, if it was your intent that I learn it.\n",
        "\n",
        "ws = Workspace.from_config()\n",
        "\n",
        "exp = Experiment(workspace=ws, name=\"udacity-project\")\n",
        "\n",
        "print('Workspace name: ' + ws.name, \n",
        "      'Azure region: ' + ws.location, \n",
        "      'Subscription id: ' + ws.subscription_id, \n",
        "      'Resource group: ' + ws.resource_group, sep = '\\n')\n",
        "\n",
        "run = exp.start_logging()"
      ],
      "outputs": [
        {
          "output_type": "stream",
          "name": "stdout",
          "text": [
            "Performing interactive authentication. Please follow the instructions on the terminal.\n",
            "To sign in, use a web browser to open the page https://microsoft.com/devicelogin and enter the code AESKLN625 to authenticate.\n",
            "You have logged in. Now let us find all the subscriptions to which you have access...\n",
            "Interactive authentication successfully completed.\n",
            "Workspace name: quick-starts-ws-138457\n",
            "Azure region: southcentralus\n",
            "Subscription id: d4ad7261-832d-46b2-b093-22156001df5b\n",
            "Resource group: aml-quickstarts-138457\n"
          ]
        }
      ],
      "execution_count": 1,
      "metadata": {
        "gather": {
          "logged": 1612997284145
        }
      }
    },
    {
      "cell_type": "code",
      "source": [
        "from azureml.core.compute import ComputeTarget, AmlCompute\n",
        "\n",
        "### My compute name is always \"ProjectOneAMLcompute\" so when I kick this off I can confirm the test output at the last line of this cell.\n",
        "\n",
        "# TODO: Create compute cluster\n",
        "# Use vm_size = \"Standard_D2_V2\" in your provisioning configuration.\n",
        "# max_nodes should be no greater than 4.\n",
        "\n",
        "### YOUR CODE HERE ###\n",
        "\n",
        "# Looks like you've imported an unnecessary object, \"ComputeTarget\".\n",
        "# You want a standard virtual machine, you got one.\n",
        "# I don't see why you called it a \"compute cluster\" in line 3, if all you want is a CPU vm.\n",
        "# The \"max_nodes\" call appears to be unnecessary, unless I'm wrong. ??? It would be nice to have office hours to discuss this stuff.\n",
        "\n",
        "from azureml.core.runconfig import RunConfiguration\n",
        "# You've already imported AmlCompute, so I'll leave that off, \n",
        "# but if \"explicit is better than implicit\" then the above should be replaced with the following line.\n",
        "# from azureml.core.runconfig import ComputeTarget\n",
        "# This exercise kinda proves that implicit code is harder to read. Did you guys do that on purpose?\n",
        "\n",
        "# This part is for me, so I can see what I'm doing.\n",
        "list_vms = AmlCompute.supported_vmsizes(workspace=ws)\n",
        "\n",
        "###  uncomment to test to here...PRH this works 2/8\n",
        "# print(list_vms)\n",
        "\n",
        "### Here is my solution to specifying the vm_size variable ###\n",
        "compute_config = RunConfiguration()\n",
        "compute_config.amlcompute.vm_size = \"STANDARD_D1_V2\"\n",
        "\n",
        "# I can't read your mind, so you should say if you want me to us a specific object.\n",
        "# The above is a \"git 'er done\" method. The Microsoft tutorial shows a fairly complicated, but disaster-resistant\n",
        "# block of code that would find or add a true \"cluster\"...And yes that actually does include reference to nodes.\n",
        "\n",
        "\n",
        "\n",
        "# Here's the full monty from the Microsoft tutorial, with my comments and questions:\n",
        "\n",
        "# compute_name = os.environ.get('AML_COMPUTE_CLUSTER_NAME', 'cpu-cluster')\n",
        "# compute_min_nodes = os.environ.get('AML_COMPUTE_CLUSTER_MIN_NODES', 0)\n",
        "# compute_min_nodes = os.environ.get('AML_COMPUTE_CLUSTER_MAX_NODES', 4)\n",
        "\n",
        "# The following uses CPU for virtual machine, but change \"STANDARD_D2_V2\" to \"STANDARD_NC6\" to get GPU.\n",
        "# vm_size = os.environ.get('AML_COMPUTE_CLUSTER_SKU', 'STANDARD_D2_V2')\n",
        "\n",
        "# The following code lines show a check for existing compute resources... Seems like a good idea to me.\n",
        "# if compute_name in ws.compute_targets:\n",
        "#     compute_target = ws.compute_targets[compute_name]\n",
        "#     if compute_target and type(compute_target) is AmlCompute:\n",
        "#         print('found compute target. just use it. '  + compute_name)\n",
        "# else:\n",
        "#     print('creating new compute target...')\n",
        "#     provisioning_config = AmlCompute.provisioning_configuration(vm_size=vm_size, min_nodes=compute_min_nodes, max_nodes=compute_max_nodes)\n",
        "\n",
        "# creating the cluster, finally...\n",
        "# compute_target = ComputeTarget.create(ws, compute_name, provisioning_config)\n",
        "\n",
        "# This part I need to read up later:\n",
        "# Microsoft tutorial reads, \"can poll for a minimum number of nodes and for a specific timeout.\"\n",
        "# and, \"if no min node count is provided it will use the scale setting for the cluster\"\n",
        "# compute_target.wait_for_completion(show_output=True, mind_node_count=None, timeout_in_minutes=20)\n",
        "\n",
        "# finally, looks like a best practice would be to add the print (below) line to keep status so we can see what's happening.\n",
        "# For a more detailed view of current AmlCompute status, use get_status()\n",
        "# print(compute_target.get_status().serialize())\n",
        "# note that the above line will only work in conjunction with the rest of this block, see line 38 and/or line 46.\n",
        "\n",
        "compute_name = os.environ.get('AML_COMPUTE_CLUSTER_NAME', 'ProjectOneAMLcompute')\n",
        "print(compute_name)\n",
        "\n",
        "# Question: this cell requires a workspace to run it. I have to start that workspace, and name it. That name is the output of the print command just above here.\n",
        "# How does the compute_config = RunConfiguration() work, at the top? What's the name of the rsulting compute?\n",
        "# Output should be \"ProjectOneAMLcompute\" See my notes top of this cell."
      ],
      "outputs": [
        {
          "output_type": "stream",
          "name": "stdout",
          "text": [
            "ProjectOneAMLcompute\n"
          ]
        }
      ],
      "execution_count": 2,
      "metadata": {
        "gather": {
          "logged": 1612997291107
        },
        "jupyter": {
          "outputs_hidden": false,
          "source_hidden": false
        },
        "nteract": {
          "transient": {
            "deleting": false
          }
        }
      }
    },
    {
      "cell_type": "code",
      "source": [
        "from azureml.widgets import RunDetails\n",
        "from azureml.train.sklearn import SKLearn\n",
        "from azureml.train.hyperdrive.run import PrimaryMetricGoal\n",
        "from azureml.train.hyperdrive.policy import BanditPolicy\n",
        "from azureml.train.hyperdrive.sampling import RandomParameterSampling\n",
        "from azureml.train.hyperdrive.runconfig import HyperDriveConfig\n",
        "from azureml.train.hyperdrive.parameter_expressions import uniform\n",
        "import os\n",
        "\n",
        "print(\"The given code at least runs.\")\n",
        "\n",
        "# Specify parameter sampler\n",
        "### YOUR CODE HERE ###\n",
        "ps= RandomParameterSampling(  {\n",
        "#    \"learning_rate\": normal(10, 3),\n",
        "    \"keep_probability\": uniform(0.05, 0.1),\n",
        "#    \"batch_size\": choice(16, 32, 64, 128)\n",
        "    }\n",
        ")\n",
        "print(\"The microsoft docs are accurate enough...\")\n",
        "\n",
        "# Specify a Policy\n",
        "# policy = ### YOUR CODE HERE ###\n",
        "policy = BanditPolicy(evaluation_interval=100, slack_factor= 0.2, slack_amount= 0, delay_evaluation=0)\n",
        "\n",
        "\n",
        "### The following code block was provided by Udacity ###\n",
        "if \"training\" not in os.listdir():\n",
        "    os.mkdir(\"./training\")\n",
        "\n",
        "# Create a SKLearn estimator for use with train.py\n",
        "#est = ### YOUR CODE HERE ###\n",
        "\n",
        "# SKLearn and estimators are deprecated, so I tried to use the current objects -- ScriptRunConfig.\n",
        "# But I can't get it to work, so maybe you can point out what I was doing wrong here...\n",
        "# the script fails because I don't want to mess around with trying to specify conda dependencies here.\n",
        "# I'm leaving this code from one of the Microsoft tutorials, in case you want to explain this.\n",
        "# ...that YML file doesn't exist, obviously.\n",
        "\n",
        "### Here's where the \"ScriptRunConfig\" code begins ###\n",
        "#from azureml.core import ScriptRunConfig\n",
        "#from azureml.core import Environment\n",
        "\n",
        "#sklearn_env = Environment.from_conda_specification(name='sklearn-env', file_path = './conda_dependencies.yml')\n",
        "\n",
        "#src = ScriptRunConfig(source_directory='.',\n",
        "#    script =\"train.py\",\n",
        "#    arguments=\"data\",\n",
        "#    compute_target= \"ProjectOneAMLcompute\",\n",
        "#    environment=sklearn_env)\n",
        "     ### Here's where the \"ScriptRunConfig\" ends ###\n",
        "\n",
        "# Create a HyperDriveConfig using the estimator, hyperparameter sampler, and policy.\n",
        "#hyperdrive_config = ### YOUR CODE HERE ###\n"
      ],
      "outputs": [
        {
          "output_type": "stream",
          "name": "stdout",
          "text": [
            "The given code at least runs.\n",
            "The microsoft docs are accurate enough...\n"
          ]
        },
        {
          "output_type": "error",
          "ename": "FileNotFoundError",
          "evalue": "[Errno 2] No such file or directory: './conda_dependencies.yml'",
          "traceback": [
            "\u001b[0;31m---------------------------------------------------------------------------\u001b[0m",
            "\u001b[0;31mFileNotFoundError\u001b[0m                         Traceback (most recent call last)",
            "\u001b[0;32m<ipython-input-15-83441e56f1a5>\u001b[0m in \u001b[0;36m<module>\u001b[0;34m\u001b[0m\n\u001b[1;32m     40\u001b[0m \u001b[0;32mfrom\u001b[0m \u001b[0mazureml\u001b[0m\u001b[0;34m.\u001b[0m\u001b[0mcore\u001b[0m \u001b[0;32mimport\u001b[0m \u001b[0mEnvironment\u001b[0m\u001b[0;34m\u001b[0m\u001b[0;34m\u001b[0m\u001b[0m\n\u001b[1;32m     41\u001b[0m \u001b[0;34m\u001b[0m\u001b[0m\n\u001b[0;32m---> 42\u001b[0;31m \u001b[0msklearn_env\u001b[0m \u001b[0;34m=\u001b[0m \u001b[0mEnvironment\u001b[0m\u001b[0;34m.\u001b[0m\u001b[0mfrom_conda_specification\u001b[0m\u001b[0;34m(\u001b[0m\u001b[0mname\u001b[0m\u001b[0;34m=\u001b[0m\u001b[0;34m'sklearn-env'\u001b[0m\u001b[0;34m,\u001b[0m \u001b[0mfile_path\u001b[0m \u001b[0;34m=\u001b[0m \u001b[0;34m'./conda_dependencies.yml'\u001b[0m\u001b[0;34m)\u001b[0m\u001b[0;34m\u001b[0m\u001b[0;34m\u001b[0m\u001b[0m\n\u001b[0m\u001b[1;32m     43\u001b[0m \u001b[0;34m\u001b[0m\u001b[0m\n\u001b[1;32m     44\u001b[0m src = ScriptRunConfig(source_directory='.',\n",
            "\u001b[0;32m/anaconda/envs/azureml_py36/lib/python3.6/site-packages/azureml/core/environment.py\u001b[0m in \u001b[0;36mfrom_conda_specification\u001b[0;34m(name, file_path)\u001b[0m\n\u001b[1;32m   1007\u001b[0m         \u001b[0;34m:\u001b[0m\u001b[0mrtype\u001b[0m\u001b[0;34m:\u001b[0m \u001b[0mazureml\u001b[0m\u001b[0;34m.\u001b[0m\u001b[0mcore\u001b[0m\u001b[0;34m.\u001b[0m\u001b[0menvironment\u001b[0m\u001b[0;34m.\u001b[0m\u001b[0mEnvironment\u001b[0m\u001b[0;34m\u001b[0m\u001b[0;34m\u001b[0m\u001b[0m\n\u001b[1;32m   1008\u001b[0m         \"\"\"  # noqa: E501\n\u001b[0;32m-> 1009\u001b[0;31m         \u001b[0mconda_dependencies\u001b[0m \u001b[0;34m=\u001b[0m \u001b[0mCondaDependencies\u001b[0m\u001b[0;34m(\u001b[0m\u001b[0mconda_dependencies_file_path\u001b[0m\u001b[0;34m=\u001b[0m\u001b[0mfile_path\u001b[0m\u001b[0;34m)\u001b[0m\u001b[0;34m\u001b[0m\u001b[0;34m\u001b[0m\u001b[0m\n\u001b[0m\u001b[1;32m   1010\u001b[0m         \u001b[0;32mif\u001b[0m \u001b[0;32mnot\u001b[0m \u001b[0mconda_dependencies\u001b[0m\u001b[0;34m.\u001b[0m\u001b[0m_python_version\u001b[0m\u001b[0;34m:\u001b[0m\u001b[0;34m\u001b[0m\u001b[0;34m\u001b[0m\u001b[0m\n\u001b[1;32m   1011\u001b[0m             \u001b[0mmodule_logger\u001b[0m\u001b[0;34m.\u001b[0m\u001b[0mwarning\u001b[0m\u001b[0;34m(\u001b[0m\u001b[0;34m'No Python version provided, defaulting to \"{}\"'\u001b[0m\u001b[0;34m.\u001b[0m\u001b[0mformat\u001b[0m\u001b[0;34m(\u001b[0m\u001b[0mPYTHON_DEFAULT_VERSION\u001b[0m\u001b[0;34m)\u001b[0m\u001b[0;34m)\u001b[0m\u001b[0;34m\u001b[0m\u001b[0;34m\u001b[0m\u001b[0m\n",
            "\u001b[0;32m/anaconda/envs/azureml_py36/lib/python3.6/site-packages/azureml/core/conda_dependencies.py\u001b[0m in \u001b[0;36m__init__\u001b[0;34m(self, conda_dependencies_file_path, _underlying_structure)\u001b[0m\n\u001b[1;32m    120\u001b[0m         \u001b[0;34m\"\"\"Initialize a new object to manage dependencies.\"\"\"\u001b[0m\u001b[0;34m\u001b[0m\u001b[0;34m\u001b[0m\u001b[0m\n\u001b[1;32m    121\u001b[0m         \u001b[0;32mif\u001b[0m \u001b[0mconda_dependencies_file_path\u001b[0m\u001b[0;34m:\u001b[0m\u001b[0;34m\u001b[0m\u001b[0;34m\u001b[0m\u001b[0m\n\u001b[0;32m--> 122\u001b[0;31m             \u001b[0;32mwith\u001b[0m \u001b[0mopen\u001b[0m\u001b[0;34m(\u001b[0m\u001b[0mconda_dependencies_file_path\u001b[0m\u001b[0;34m,\u001b[0m \u001b[0;34m\"r\"\u001b[0m\u001b[0;34m)\u001b[0m \u001b[0;32mas\u001b[0m \u001b[0minput\u001b[0m\u001b[0;34m:\u001b[0m\u001b[0;34m\u001b[0m\u001b[0;34m\u001b[0m\u001b[0m\n\u001b[0m\u001b[1;32m    123\u001b[0m                 \u001b[0mself\u001b[0m\u001b[0;34m.\u001b[0m\u001b[0m_conda_dependencies\u001b[0m \u001b[0;34m=\u001b[0m \u001b[0mruamel\u001b[0m\u001b[0;34m.\u001b[0m\u001b[0myaml\u001b[0m\u001b[0;34m.\u001b[0m\u001b[0mround_trip_load\u001b[0m\u001b[0;34m(\u001b[0m\u001b[0minput\u001b[0m\u001b[0;34m)\u001b[0m\u001b[0;34m\u001b[0m\u001b[0;34m\u001b[0m\u001b[0m\n\u001b[1;32m    124\u001b[0m         \u001b[0;32melif\u001b[0m \u001b[0m_underlying_structure\u001b[0m\u001b[0;34m:\u001b[0m\u001b[0;34m\u001b[0m\u001b[0;34m\u001b[0m\u001b[0m\n",
            "\u001b[0;31mFileNotFoundError\u001b[0m: [Errno 2] No such file or directory: './conda_dependencies.yml'"
          ]
        }
      ],
      "execution_count": 15,
      "metadata": {
        "gather": {
          "logged": 1612716549866
        },
        "jupyter": {
          "outputs_hidden": false,
          "source_hidden": false
        },
        "nteract": {
          "transient": {
            "deleting": false
          }
        }
      }
    },
    {
      "cell_type": "code",
      "source": [
        "# Submit your hyperdrive run to the experiment and show run details with the widget.\n",
        "\n",
        "### YOUR CODE HERE ###"
      ],
      "outputs": [],
      "execution_count": null,
      "metadata": {}
    },
    {
      "cell_type": "code",
      "source": [
        "import joblib\n",
        "# Get your best run and save the model from that run.\n",
        "\n",
        "### YOUR CODE HERE ###"
      ],
      "outputs": [],
      "execution_count": null,
      "metadata": {
        "gather": {
          "logged": 1598276310862
        },
        "jupyter": {
          "outputs_hidden": false,
          "source_hidden": false
        },
        "nteract": {
          "transient": {
            "deleting": false
          }
        }
      }
    },
    {
      "cell_type": "code",
      "source": [
        "from azureml.data.dataset_factory import TabularDatasetFactory\n",
        "\n",
        "# Create TabularDataset using TabularDatasetFactory\n",
        "# Data is available at: \n",
        "# \"https://automlsamplenotebookdata.blob.core.windows.net/automl-sample-notebook-data/bankmarketing_train.csv\"\n",
        "\n",
        "### YOUR CODE HERE ###"
      ],
      "outputs": [],
      "execution_count": null,
      "metadata": {}
    },
    {
      "cell_type": "code",
      "source": [
        "from train import clean_data\n",
        "\n",
        "# Use the clean_data function to clean your data.\n",
        "x, y = clean_data(### YOUR DATA OBJECT HERE ###)"
      ],
      "outputs": [],
      "execution_count": null,
      "metadata": {
        "gather": {
          "logged": 1598275726969
        },
        "jupyter": {
          "outputs_hidden": false,
          "source_hidden": false
        },
        "nteract": {
          "transient": {
            "deleting": false
          }
        }
      }
    },
    {
      "cell_type": "code",
      "source": [
        "from azureml.train.automl import AutoMLConfig\n",
        "\n",
        "# Set parameters for AutoMLConfig\n",
        "# NOTE: DO NOT CHANGE THE experiment_timeout_minutes PARAMETER OR YOUR INSTANCE WILL TIME OUT.\n",
        "# If you wish to run the experiment longer, you will need to run this notebook in your own\n",
        "# Azure tenant, which will incur personal costs.\n",
        "automl_config = AutoMLConfig(\n",
        "    experiment_timeout_minutes=30,\n",
        "    task=,\n",
        "    primary_metric=,\n",
        "    training_data=,\n",
        "    label_column_name=,\n",
        "    n_cross_validations=)"
      ],
      "outputs": [],
      "execution_count": null,
      "metadata": {
        "gather": {
          "logged": 1598275665403
        },
        "jupyter": {
          "outputs_hidden": false,
          "source_hidden": false
        },
        "nteract": {
          "transient": {
            "deleting": false
          }
        }
      }
    },
    {
      "cell_type": "code",
      "source": [
        "# Submit your automl run\n",
        "\n",
        "### YOUR CODE HERE ###"
      ],
      "outputs": [],
      "execution_count": 2,
      "metadata": {
        "jupyter": {
          "outputs_hidden": false,
          "source_hidden": false
        },
        "nteract": {
          "transient": {
            "deleting": false
          }
        }
      }
    },
    {
      "cell_type": "code",
      "source": [
        "# Retrieve and save your best automl model.\n",
        "\n",
        "### YOUR CODE HERE ###"
      ],
      "outputs": [],
      "execution_count": null,
      "metadata": {}
    }
  ],
  "metadata": {
    "kernel_info": {
      "name": "python3"
    },
    "kernelspec": {
      "name": "python3",
      "language": "python",
      "display_name": "Python 3"
    },
    "language_info": {
      "name": "python",
      "version": "3.6.9",
      "mimetype": "text/x-python",
      "codemirror_mode": {
        "name": "ipython",
        "version": 3
      },
      "pygments_lexer": "ipython3",
      "nbconvert_exporter": "python",
      "file_extension": ".py"
    },
    "nteract": {
      "version": "nteract-front-end@1.0.0"
    }
  },
  "nbformat": 4,
  "nbformat_minor": 2
}