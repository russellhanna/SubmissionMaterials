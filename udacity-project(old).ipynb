{
  "cells": [
    {
      "cell_type": "code",
      "source": [
        "from azureml.core import Workspace, Experiment\n",
        "\n",
        "# Corrected the below to run within a notebook actually on the studio.\n",
        "# You guys designed this, so I don't understand why you didn't explain the\n",
        "# various ways to run this, if it was your intent that I learn it.\n",
        "\n",
        "ws = Workspace.from_config()\n",
        "\n",
        "exp = Experiment(workspace=ws, name=\"udacity-project\")\n",
        "\n",
        "print('Workspace name: ' + ws.name, \n",
        "      'Azure region: ' + ws.location, \n",
        "      'Subscription id: ' + ws.subscription_id, \n",
        "      'Resource group: ' + ws.resource_group, sep = '\\n')\n",
        "\n",
        "run = exp.start_logging()"
      ],
      "outputs": [
        {
          "output_type": "stream",
          "name": "stdout",
          "text": [
            "Performing interactive authentication. Please follow the instructions on the terminal.\n",
            "To sign in, use a web browser to open the page https://microsoft.com/devicelogin and enter the code AESKLN625 to authenticate.\n",
            "You have logged in. Now let us find all the subscriptions to which you have access...\n",
            "Interactive authentication successfully completed.\n",
            "Workspace name: quick-starts-ws-138457\n",
            "Azure region: southcentralus\n",
            "Subscription id: d4ad7261-832d-46b2-b093-22156001df5b\n",
            "Resource group: aml-quickstarts-138457\n"
          ]
        }
      ],
      "execution_count": 1,
      "metadata": {
        "gather": {
          "logged": 1612997284145
        }
      }
    },
    {
      "cell_type": "code",
      "source": [
        "from azureml.core.compute import ComputeTarget, AmlCompute\n",
        "\n",
        "### My compute name is always \"ProjectOneAMLcompute\" so when I kick this off I can confirm the test output at the last line of this cell.\n",
        "\n",
        "# TODO: Create compute cluster\n",
        "# Use vm_size = \"Standard_D2_V2\" in your provisioning configuration.\n",
        "# max_nodes should be no greater than 4.\n",
        "\n",
        "### YOUR CODE HERE ###\n",
        "\n",
        "# Looks like you've imported an unnecessary object, \"ComputeTarget\".\n",
        "# You want a standard virtual machine, you got one.\n",
        "# I don't see why you called it a \"compute cluster\" in line 3, if all you want is a CPU vm.\n",
        "# The \"max_nodes\" call appears to be unnecessary, unless I'm wrong. ??? It would be nice to have office hours to discuss this stuff.\n",
        "\n",
        "from azureml.core.runconfig import RunConfiguration\n",
        "# You've already imported AmlCompute, so I'll leave that off, \n",
        "# but if \"explicit is better than implicit\" then the above should be replaced with the following line.\n",
        "# from azureml.core.runconfig import ComputeTarget\n",
        "# This exercise kinda proves that implicit code is harder to read. Did you guys do that on purpose?\n",
        "\n",
        "# This part is for me, so I can see what I'm doing.\n",
        "list_vms = AmlCompute.supported_vmsizes(workspace=ws)\n",
        "\n",
        "###  uncomment to test to here...PRH this works 2/8\n",
        "# print(list_vms)\n",
        "\n",
        "### Here is my solution to specifying the vm_size variable ###\n",
        "compute_config = RunConfiguration()\n",
        "compute_config.amlcompute.vm_size = \"STANDARD_D1_V2\"\n",
        "\n",
        "# I can't read your mind, so you should say if you want me to us a specific object.\n",
        "# The above is a \"git 'er done\" method. The Microsoft tutorial shows a fairly complicated, but disaster-resistant\n",
        "# block of code that would find or add a true \"cluster\"...And yes that actually does include reference to nodes.\n",
        "\n",
        "\n",
        "\n",
        "# Here's the full monty from the Microsoft tutorial, with my comments and questions:\n",
        "\n",
        "# compute_name = os.environ.get('AML_COMPUTE_CLUSTER_NAME', 'cpu-cluster')\n",
        "# compute_min_nodes = os.environ.get('AML_COMPUTE_CLUSTER_MIN_NODES', 0)\n",
        "# compute_min_nodes = os.environ.get('AML_COMPUTE_CLUSTER_MAX_NODES', 4)\n",
        "\n",
        "# The following uses CPU for virtual machine, but change \"STANDARD_D2_V2\" to \"STANDARD_NC6\" to get GPU.\n",
        "# vm_size = os.environ.get('AML_COMPUTE_CLUSTER_SKU', 'STANDARD_D2_V2')\n",
        "\n",
        "# The following code lines show a check for existing compute resources... Seems like a good idea to me.\n",
        "# if compute_name in ws.compute_targets:\n",
        "#     compute_target = ws.compute_targets[compute_name]\n",
        "#     if compute_target and type(compute_target) is AmlCompute:\n",
        "#         print('found compute target. just use it. '  + compute_name)\n",
        "# else:\n",
        "#     print('creating new compute target...')\n",
        "#     provisioning_config = AmlCompute.provisioning_configuration(vm_size=vm_size, min_nodes=compute_min_nodes, max_nodes=compute_max_nodes)\n",
        "\n",
        "# creating the cluster, finally...\n",
        "# compute_target = ComputeTarget.create(ws, compute_name, provisioning_config)\n",
        "\n",
        "# This part I need to read up later:\n",
        "# Microsoft tutorial reads, \"can poll for a minimum number of nodes and for a specific timeout.\"\n",
        "# and, \"if no min node count is provided it will use the scale setting for the cluster\"\n",
        "# compute_target.wait_for_completion(show_output=True, mind_node_count=None, timeout_in_minutes=20)\n",
        "\n",
        "# finally, looks like a best practice would be to add the print (below) line to keep status so we can see what's happening.\n",
        "# For a more detailed view of current AmlCompute status, use get_status()\n",
        "# print(compute_target.get_status().serialize())\n",
        "# note that the above line will only work in conjunction with the rest of this block, see line 38 and/or line 46.\n",
        "\n",
        "compute_name = os.environ.get('AML_COMPUTE_CLUSTER_NAME', 'ProjectOneAMLcompute')\n",
        "print(compute_name)\n",
        "\n",
        "# Question: this cell requires a workspace to run it. I have to start that workspace, and name it. That name is the output of the print command just above here.\n",
        "# How does the compute_config = RunConfiguration() work, at the top? What's the name of the rsulting compute?\n",
        "# Output should be \"ProjectOneAMLcompute\" See my notes top of this cell."
      ],
      "outputs": [
        {
          "output_type": "stream",
          "name": "stdout",
          "text": [
            "ProjectOneAMLcompute\n"
          ]
        }
      ],
      "execution_count": 2,
      "metadata": {
        "gather": {
          "logged": 1612997291107
        },
        "jupyter": {
          "outputs_hidden": false,
          "source_hidden": false
        },
        "nteract": {
          "transient": {
            "deleting": false
          }
        }
      }
    },
    {
      "cell_type": "code",
      "source": [
        "from azureml.widgets import RunDetails\n",
        "from azureml.train.sklearn import SKLearn\n",
        "from azureml.train.hyperdrive.run import PrimaryMetricGoal\n",
        "from azureml.train.hyperdrive.policy import BanditPolicy\n",
        "from azureml.train.hyperdrive.sampling import RandomParameterSampling\n",
        "from azureml.train.hyperdrive.runconfig import HyperDriveConfig\n",
        "from azureml.train.hyperdrive.parameter_expressions import uniform\n",
        "import os\n",
        "\n",
        "print(\"The given code at least runs.\")\n",
        "\n",
        "# Specify parameter sampler\n",
        "### YOUR CODE HERE ###\n",
        "ps= RandomParameterSampling(  {\n",
        "#    \"learning_rate\": normal(10, 3),\n",
        "    \"keep_probability\": uniform(0.05, 0.1),\n",
        "#    \"batch_size\": choice(16, 32, 64, 128)\n",
        "    }\n",
        ")\n",
        "print(\"The microsoft docs are accurate enough...\")\n",
        "\n",
        "# Specify a Policy\n",
        "# policy = ### YOUR CODE HERE ###\n",
        "policy = BanditPolicy(evaluation_interval=100, slack_factor= 0.2, slack_amount= 0, delay_evaluation=0)\n",
        "\n",
        "\n",
        "### The following code block was provided by Udacity ###\n",
        "if \"training\" not in os.listdir():\n",
        "    os.mkdir(\"./training\")\n",
        "\n",
        "\n",
        "\n"
      ],
      "outputs": [
        {
          "output_type": "stream",
          "name": "stdout",
          "text": [
            "The given code at least runs.\n",
            "The microsoft docs are accurate enough...\n"
          ]
        }
      ],
      "execution_count": 20,
      "metadata": {
        "gather": {
          "logged": 1613000514891
        },
        "jupyter": {
          "outputs_hidden": false,
          "source_hidden": false
        },
        "nteract": {
          "transient": {
            "deleting": false
          }
        }
      }
    },
    {
      "cell_type": "code",
      "source": [
        "# Create a SKLearn estimator for use with train.py\r\n",
        "#est = ### YOUR CODE HERE ###\r\n",
        "\r\n",
        "# SKLearn and estimators are deprecated, so I tried to use the current objects -- ScriptRunConfig.\r\n",
        "# But I can't get it to work, so maybe you can point out what I was doing wrong here...\r\n",
        "# the script fails because I don't want to mess around with trying to specify conda dependencies here.\r\n",
        "#\r\n",
        "# ...that YML file doesn't exist, obviously. I didn't want to mess up the runtime.\r\n",
        "\r\n",
        "### Here's where the \"ScriptRunConfig\" code begins ###\r\n",
        "#from azureml.core import ScriptRunConfig\r\n",
        "#from azureml.core import Environment\r\n",
        "\r\n",
        "#sklearn_env = Environment.from_conda_specification(name='sklearn-env', file_path = './conda_dependencies.yml')\r\n",
        "\r\n",
        "#src = ScriptRunConfig(source_directory='.',\r\n",
        "#    script =\"train.py\",\r\n",
        "#    arguments=\"data\",\r\n",
        "#    compute_target= \"ProjectOneAMLcompute\", ## or will it be \"compute_name\"?\r\n",
        "#    environment=sklearn_env)\r\n",
        "     ### Here's where the \"ScriptRunConfig\" ends ###\r\n",
        "\r\n",
        "#The below runs, but has a message about deprecation. I believe I'm suppose to ignore the message. Nice.\r\n",
        "\r\n",
        "est = SKLearn(source_directory = '.',\r\n",
        "    compute_target=compute_name,\r\n",
        "    entry_script='train.py')"
      ],
      "outputs": [
        {
          "output_type": "stream",
          "name": "stderr",
          "text": [
            "'SKLearn' estimator is deprecated. Please use 'ScriptRunConfig' from 'azureml.core.script_run_config' with your own defined environment or the AzureML-Tutorial curated environment.\n"
          ]
        }
      ],
      "execution_count": 21,
      "metadata": {
        "collapsed": true,
        "jupyter": {
          "source_hidden": false,
          "outputs_hidden": false
        },
        "nteract": {
          "transient": {
            "deleting": false
          }
        },
        "gather": {
          "logged": 1613000519144
        }
      }
    },
    {
      "cell_type": "code",
      "source": [
        "# Create a HyperDriveConfig using the estimator, hyperparameter sampler, and policy.\r\n",
        "#hyperdrive_config = ### YOUR CODE HERE ###\r\n",
        "\r\n",
        "# I'm using too much time writing all these comments for you guys.\r\n",
        "# No more comments. ;-)\r\n",
        "\r\n",
        "hyperdrive_config=HyperDriveConfig(estimator=est,\r\n",
        "    hyperparameter_sampling=ps,\r\n",
        "        policy=policy,\r\n",
        "        primary_metric_name='Accuracy',\r\n",
        "        primary_metric_goal=PrimaryMetricGoal.MAXIMIZE,\r\n",
        "        max_total_runs=100,\r\n",
        "        max_concurrent_runs=4)\r\n",
        "\r\n",
        "# You gotta be careful trusting the helpful IDE stuff in these notebooks! Not too good."
      ],
      "outputs": [],
      "execution_count": 24,
      "metadata": {
        "collapsed": true,
        "jupyter": {
          "source_hidden": false,
          "outputs_hidden": false
        },
        "nteract": {
          "transient": {
            "deleting": false
          }
        },
        "gather": {
          "logged": 1613000641457
        }
      }
    },
    {
      "cell_type": "code",
      "source": [
        "# Submit your hyperdrive run to the experiment and show run details with the widget.\n",
        "\n",
        "### YOUR CODE HERE ###\n",
        "\n",
        "hd_run = exp.submit(hyperdrive_config)\n",
        "RunDetails(hd_run).show()\n",
        "hd_run.wait_for_completion(show_output=True)"
      ],
      "outputs": [
        {
          "output_type": "error",
          "ename": "NameError",
          "evalue": "name 'exp1' is not defined",
          "traceback": [
            "\u001b[0;31m---------------------------------------------------------------------------\u001b[0m",
            "\u001b[0;31mNameError\u001b[0m                                 Traceback (most recent call last)",
            "\u001b[0;32m<ipython-input-26-f79965972d19>\u001b[0m in \u001b[0;36m<module>\u001b[0;34m\u001b[0m\n\u001b[1;32m      3\u001b[0m \u001b[0;31m### YOUR CODE HERE ###\u001b[0m\u001b[0;34m\u001b[0m\u001b[0;34m\u001b[0m\u001b[0;34m\u001b[0m\u001b[0m\n\u001b[1;32m      4\u001b[0m \u001b[0;34m\u001b[0m\u001b[0m\n\u001b[0;32m----> 5\u001b[0;31m \u001b[0mhd_run\u001b[0m \u001b[0;34m=\u001b[0m \u001b[0mexp1\u001b[0m\u001b[0;34m.\u001b[0m\u001b[0msubmit\u001b[0m\u001b[0;34m(\u001b[0m\u001b[0mhyperdrive_config\u001b[0m\u001b[0;34m)\u001b[0m\u001b[0;34m\u001b[0m\u001b[0;34m\u001b[0m\u001b[0m\n\u001b[0m\u001b[1;32m      6\u001b[0m \u001b[0mRunDetails\u001b[0m\u001b[0;34m(\u001b[0m\u001b[0mhd_run\u001b[0m\u001b[0;34m)\u001b[0m\u001b[0;34m.\u001b[0m\u001b[0mshow\u001b[0m\u001b[0;34m(\u001b[0m\u001b[0;34m)\u001b[0m\u001b[0;34m\u001b[0m\u001b[0;34m\u001b[0m\u001b[0m\n\u001b[1;32m      7\u001b[0m \u001b[0mhd_run\u001b[0m\u001b[0;34m.\u001b[0m\u001b[0mwait_for_completion\u001b[0m\u001b[0;34m(\u001b[0m\u001b[0mshow_output\u001b[0m\u001b[0;34m=\u001b[0m\u001b[0;32mTrue\u001b[0m\u001b[0;34m)\u001b[0m\u001b[0;34m\u001b[0m\u001b[0;34m\u001b[0m\u001b[0m\n",
            "\u001b[0;31mNameError\u001b[0m: name 'exp1' is not defined"
          ]
        }
      ],
      "execution_count": 26,
      "metadata": {}
    },
    {
      "cell_type": "code",
      "source": [
        "import joblib\n",
        "# Get your best run and save the model from that run.\n",
        "\n",
        "### YOUR CODE HERE ###"
      ],
      "outputs": [],
      "execution_count": null,
      "metadata": {
        "gather": {
          "logged": 1598276310862
        },
        "jupyter": {
          "outputs_hidden": false,
          "source_hidden": false
        },
        "nteract": {
          "transient": {
            "deleting": false
          }
        }
      }
    },
    {
      "cell_type": "code",
      "source": [
        "from azureml.data.dataset_factory import TabularDatasetFactory\n",
        "\n",
        "# Create TabularDataset using TabularDatasetFactory\n",
        "# Data is available at: \n",
        "# \"https://automlsamplenotebookdata.blob.core.windows.net/automl-sample-notebook-data/bankmarketing_train.csv\"\n",
        "\n",
        "### YOUR CODE HERE ###"
      ],
      "outputs": [],
      "execution_count": null,
      "metadata": {}
    },
    {
      "cell_type": "code",
      "source": [
        "from train import clean_data\n",
        "\n",
        "# Use the clean_data function to clean your data.\n",
        "x, y = clean_data(### YOUR DATA OBJECT HERE ###)"
      ],
      "outputs": [],
      "execution_count": null,
      "metadata": {
        "gather": {
          "logged": 1598275726969
        },
        "jupyter": {
          "outputs_hidden": false,
          "source_hidden": false
        },
        "nteract": {
          "transient": {
            "deleting": false
          }
        }
      }
    },
    {
      "cell_type": "code",
      "source": [
        "from azureml.train.automl import AutoMLConfig\n",
        "\n",
        "# Set parameters for AutoMLConfig\n",
        "# NOTE: DO NOT CHANGE THE experiment_timeout_minutes PARAMETER OR YOUR INSTANCE WILL TIME OUT.\n",
        "# If you wish to run the experiment longer, you will need to run this notebook in your own\n",
        "# Azure tenant, which will incur personal costs.\n",
        "automl_config = AutoMLConfig(\n",
        "    experiment_timeout_minutes=30,\n",
        "    task=,\n",
        "    primary_metric=,\n",
        "    training_data=,\n",
        "    label_column_name=,\n",
        "    n_cross_validations=)"
      ],
      "outputs": [],
      "execution_count": null,
      "metadata": {
        "gather": {
          "logged": 1598275665403
        },
        "jupyter": {
          "outputs_hidden": false,
          "source_hidden": false
        },
        "nteract": {
          "transient": {
            "deleting": false
          }
        }
      }
    },
    {
      "cell_type": "code",
      "source": [
        "# Submit your automl run\n",
        "\n",
        "### YOUR CODE HERE ###"
      ],
      "outputs": [],
      "execution_count": 2,
      "metadata": {
        "jupyter": {
          "outputs_hidden": false,
          "source_hidden": false
        },
        "nteract": {
          "transient": {
            "deleting": false
          }
        }
      }
    },
    {
      "cell_type": "code",
      "source": [
        "# Retrieve and save your best automl model.\n",
        "\n",
        "### YOUR CODE HERE ###"
      ],
      "outputs": [],
      "execution_count": null,
      "metadata": {}
    }
  ],
  "metadata": {
    "kernel_info": {
      "name": "python3"
    },
    "kernelspec": {
      "name": "python3",
      "language": "python",
      "display_name": "Python 3"
    },
    "language_info": {
      "name": "python",
      "version": "3.6.9",
      "mimetype": "text/x-python",
      "codemirror_mode": {
        "name": "ipython",
        "version": 3
      },
      "pygments_lexer": "ipython3",
      "nbconvert_exporter": "python",
      "file_extension": ".py"
    },
    "nteract": {
      "version": "nteract-front-end@1.0.0"
    }
  },
  "nbformat": 4,
  "nbformat_minor": 2
}
