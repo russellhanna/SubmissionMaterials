{
  "cells": [
    {
      "cell_type": "code",
      "source": [
        "from azureml.core import Workspace, Experiment\n",
        "\n",
        "# Corrected the below to run within a notebook actually on the studio.\n",
        "# You guys designed this, so I don't understand why you didn't explain the\n",
        "# various ways to run this, if it was your intent that I learn it.\n",
        "\n",
        "ws = Workspace.from_config()\n",
        "\n",
        "exp = Experiment(workspace=ws, name=\"udacity-project\")\n",
        "\n",
        "print('Workspace name: ' + ws.name, \n",
        "      'Azure region: ' + ws.location, \n",
        "      'Subscription id: ' + ws.subscription_id, \n",
        "      'Resource group: ' + ws.resource_group, sep = '\\n')\n",
        "\n",
        "run = exp.start_logging()"
      ],
      "outputs": [
        {
          "output_type": "stream",
          "name": "stdout",
          "text": [
            "Performing interactive authentication. Please follow the instructions on the terminal.\n",
            "To sign in, use a web browser to open the page https://microsoft.com/devicelogin and enter the code RZT7MUFZ9 to authenticate.\n",
            "You have logged in. Now let us find all the subscriptions to which you have access...\n",
            "Interactive authentication successfully completed.\n",
            "Workspace name: quick-starts-ws-138618\n",
            "Azure region: southcentralus\n",
            "Subscription id: 6971f5ac-8af1-446e-8034-05acea24681f\n",
            "Resource group: aml-quickstarts-138618\n"
          ]
        }
      ],
      "execution_count": 1,
      "metadata": {
        "gather": {
          "logged": 1613073523119
        }
      }
    },
    {
      "cell_type": "code",
      "source": [
        "from azureml.core.compute import ComputeTarget, AmlCompute\n",
        "\n",
        "### Reminder to me: compute is always named \"ProjectOneAMLcompute\"...\n",
        "\n",
        "# TODO: Create compute cluster\n",
        "# Use vm_size = \"Standard_D2_V2\" in your provisioning configuration.\n",
        "# max_nodes should be no greater than 4.\n",
        "\n",
        "### YOUR CODE HERE ###\n",
        "\n",
        "# Seems like there are a lot of ways to get this done. Discussion in the lecture would be nice.\n",
        "# Actually, this needs to be more like Phase 1, where you do some work on a cell and get it to run, then do another lesson.\n",
        "# After reading the hell out of all this material, you guys could have helped with a mind map.\n",
        "\n",
        "from azureml.core.runconfig import RunConfiguration\n",
        "\n",
        "\n",
        "\n",
        "# This part is for me, so I can see what I'm doing.\n",
        "list_vms = AmlCompute.supported_vmsizes(workspace=ws)\n",
        "\n",
        "\n",
        "\n",
        "###  uncomment to test to here...PRH this works 2/8\n",
        "# print(list_vms)\n",
        "\n",
        "### Here is my solution to specifying the vm_size variable ###\n",
        "compute_config = RunConfiguration()\n",
        "compute_config.amlcompute.vm_size = \"STANDARD_D1_V2\"\n",
        "\n",
        "\n",
        "\n",
        "# IN CASE I NEED THIS LATER\n",
        "# from azureml.core.runconfig import ComputeTarget\n",
        "# Where the hell did I put this? I swear these names are all running together...\n",
        "\n",
        "from azureml.core.compute_target import ComputeTargetException\n",
        "compute_name = \"ProjectOneAMLcompute\" # compute name again\n",
        "vm_size = 'Standard_D2_V2'\n",
        "try:\n",
        "    compute_target = ComputeTarget(workspace=ws, name=compute_name)\n",
        "    print('Using existing compute resource')\n",
        "except ComputeTargetException:\n",
        "    print('Creating a new compute instance')\n",
        "    provisioning_config = AmlCompute.provisioning_config(vm_size = vm_size, max_nodes = 4)\n",
        "\n",
        "# This exercise kinda proves that implicit code is harder to read. \n",
        "# How many learning objectives are you trying to jam in here? Maybe make a list and stick to it.\n",
        "\n",
        "# The above is a \"git 'er done\" method. The Microsoft tutorial shows a fairly complicated, but disaster-resistant\n",
        "# block of code that would find or add a true \"cluster\"...And yes that actually does include reference to nodes.\n",
        "\n",
        "\n",
        "\n",
        "# Here's the full monty from the Microsoft tutorial, with my comments and questions:\n",
        "\n",
        "# compute_name = os.environ.get('AML_COMPUTE_CLUSTER_NAME', 'cpu-cluster')\n",
        "# compute_min_nodes = os.environ.get('AML_COMPUTE_CLUSTER_MIN_NODES', 0)\n",
        "# compute_min_nodes = os.environ.get('AML_COMPUTE_CLUSTER_MAX_NODES', 4)\n",
        "\n",
        "# The following uses CPU for virtual machine, but change \"STANDARD_D2_V2\" to \"STANDARD_NC6\" to get GPU.\n",
        "# vm_size = os.environ.get('AML_COMPUTE_CLUSTER_SKU', 'STANDARD_D2_V2')\n",
        "\n",
        "# The following code lines show a check for existing compute resources... Seems like a good idea to me.\n",
        "# if compute_name in ws.compute_targets:\n",
        "#     compute_target = ws.compute_targets[compute_name]\n",
        "#     if compute_target and type(compute_target) is AmlCompute:\n",
        "#         print('found compute target. just use it. '  + compute_name)\n",
        "# else:\n",
        "#     print('creating new compute target...')\n",
        "#     provisioning_config = AmlCompute.provisioning_configuration(vm_size=vm_size, min_nodes=compute_min_nodes, max_nodes=compute_max_nodes)\n",
        "\n",
        "# creating the cluster, finally...\n",
        "# compute_target = ComputeTarget.create(ws, compute_name, provisioning_config)\n",
        "\n",
        "# This part I need to read up later:\n",
        "# Microsoft tutorial reads, \"can poll for a minimum number of nodes and for a specific timeout.\"\n",
        "# and, \"if no min node count is provided it will use the scale setting for the cluster\"\n",
        "# compute_target.wait_for_completion(show_output=True, mind_node_count=None, timeout_in_minutes=20)\n",
        "\n",
        "# finally, looks like a best practice would be to add the print (below) line to keep status so we can see what's happening.\n",
        "# For a more detailed view of current AmlCompute status, use get_status()\n",
        "# print(compute_target.get_status().serialize())\n",
        "# note that the above line will only work in conjunction with the rest of this block, see line 38 and/or line 46.\n",
        "\n",
        "compute_name = os.environ.get('AML_COMPUTE_CLUSTER_NAME', 'ProjectOneAMLcompute')\n",
        "print(compute_name)\n",
        "\n",
        "# Question: this cell requires a workspace to run it. I have to start that workspace, and name it. That name is the output of the print command just above here.\n",
        "# How does the compute_config = RunConfiguration() work, at the top? What's the name of the rsulting compute?\n",
        "# Output should be \"ProjectOneAMLcompute\" See my notes top of this cell."
      ],
      "outputs": [
        {
          "output_type": "stream",
          "name": "stdout",
          "text": [
            "Using existing compute resource\n",
            "ProjectOneAMLcompute\n"
          ]
        }
      ],
      "execution_count": 10,
      "metadata": {
        "gather": {
          "logged": 1613079916661
        },
        "jupyter": {
          "outputs_hidden": false,
          "source_hidden": false
        },
        "nteract": {
          "transient": {
            "deleting": false
          }
        }
      }
    },
    {
      "cell_type": "code",
      "source": [
        "from azureml.widgets import RunDetails\n",
        "from azureml.train.sklearn import SKLearn\n",
        "from azureml.train.hyperdrive.run import PrimaryMetricGoal\n",
        "from azureml.train.hyperdrive.policy import BanditPolicy\n",
        "from azureml.train.hyperdrive.sampling import RandomParameterSampling\n",
        "from azureml.train.hyperdrive.runconfig import HyperDriveConfig\n",
        "from azureml.train.hyperdrive.parameter_expressions import uniform\n",
        "from azureml.train.hyperdrive.parameter_expressions import choice\n",
        "import os\n",
        "\n",
        "print(\"The given code at least runs.\")\n",
        "\n",
        "# Specify parameter sampler\n",
        "### YOUR CODE HERE ###\n",
        "ps= RandomParameterSampling(  {\n",
        "#    \"learning_rate\": normal(10, 3),\n",
        "#    \"keep_probability\": uniform(0.05, 0.1),\n",
        "#    \"batch_size\": choice(16, 32, 64, 128),\n",
        "    \"C\": uniform(0.01, 2.0),\n",
        "    \"max_iter\": choice(50, 75, 100, 150, 200)\n",
        "    }\n",
        ")\n",
        "print(\"The microsoft docs are accurate enough...\")\n",
        "\n",
        "# Specify a Policy\n",
        "# policy = ### YOUR CODE HERE ###\n",
        "policy = BanditPolicy(evaluation_interval=100, slack_factor= 0.2, slack_amount= 0, delay_evaluation=0)\n",
        "\n",
        "\n",
        "### The following code block was provided by Udacity ###\n",
        "if \"training\" not in os.listdir():\n",
        "    os.mkdir(\"./training\")\n",
        "\n",
        "\n",
        "\n"
      ],
      "outputs": [
        {
          "output_type": "stream",
          "name": "stdout",
          "text": [
            "The given code at least runs.\n",
            "The microsoft docs are accurate enough...\n"
          ]
        }
      ],
      "execution_count": 8,
      "metadata": {
        "gather": {
          "logged": 1613079847373
        },
        "jupyter": {
          "outputs_hidden": false,
          "source_hidden": false
        },
        "nteract": {
          "transient": {
            "deleting": false
          }
        }
      }
    },
    {
      "cell_type": "code",
      "source": [
        "# Create a SKLearn estimator for use with train.py\r\n",
        "#est = ### YOUR CODE HERE ###\r\n",
        "\r\n",
        "# SKLearn and estimators are deprecated, so I tried to use the current objects -- ScriptRunConfig.\r\n",
        "# But I can't get it to work, so maybe you can point out what I was doing wrong here...\r\n",
        "# the script fails and the MS tutorial calls for me to specify conda dependencies here.\r\n",
        "#\r\n",
        "# ...that YML file doesn't exist, obviously. I didn't want to mess up the runtime.\r\n",
        "\r\n",
        "### Here's where the \"ScriptRunConfig\" code begins ###\r\n",
        "#from azureml.core import ScriptRunConfig\r\n",
        "#from azureml.core import Environment\r\n",
        "\r\n",
        "#sklearn_env = Environment.from_conda_specification(name='sklearn-env', file_path = './conda_dependencies.yml')\r\n",
        "\r\n",
        "#src = ScriptRunConfig(source_directory='.',\r\n",
        "#    script =\"train.py\",\r\n",
        "#    arguments=\"data\",\r\n",
        "#    compute_target= \"ProjectOneAMLcompute\", ## or will it be \"compute_name\"?\r\n",
        "#    environment=sklearn_env)\r\n",
        "     ### Here's where the \"ScriptRunConfig\" ends ###\r\n",
        "\r\n",
        "# The below runs, but has a message about deprecation. I believe I'm suppose to ignore the message. \r\n",
        "# Nice.\r\n",
        "\r\n",
        "est = SKLearn(source_directory = '.',\r\n",
        "    compute_target=compute_name,\r\n",
        "    entry_script='train.py')"
      ],
      "outputs": [],
      "execution_count": null,
      "metadata": {
        "collapsed": true,
        "jupyter": {
          "source_hidden": false,
          "outputs_hidden": false
        },
        "nteract": {
          "transient": {
            "deleting": false
          }
        },
        "gather": {
          "logged": 1613063742770
        }
      }
    },
    {
      "cell_type": "code",
      "source": [
        "# Create a HyperDriveConfig using the estimator, hyperparameter sampler, and policy.\r\n",
        "#hyperdrive_config = ### YOUR CODE HERE ###\r\n",
        "\r\n",
        "# I'm using too much time writing all these comments for you guys.\r\n",
        "# No more comments. ;-)\r\n",
        "\r\n",
        "hyperdrive_config=HyperDriveConfig(estimator=est,\r\n",
        "    hyperparameter_sampling=ps,\r\n",
        "        policy=policy,\r\n",
        "        primary_metric_name='Accuracy',\r\n",
        "        primary_metric_goal=PrimaryMetricGoal.MAXIMIZE,\r\n",
        "        max_total_runs=100,\r\n",
        "        max_concurrent_runs=4)\r\n",
        "\r\n",
        "# You gotta be careful trusting the helpful IDE stuff in these notebooks! Not too good."
      ],
      "outputs": [],
      "execution_count": null,
      "metadata": {
        "collapsed": true,
        "jupyter": {
          "source_hidden": false,
          "outputs_hidden": false
        },
        "nteract": {
          "transient": {
            "deleting": false
          }
        },
        "gather": {
          "logged": 1613063742861
        }
      }
    },
    {
      "cell_type": "code",
      "source": [
        "# Submit your hyperdrive run to the experiment and show run details with the widget.\n",
        "\n",
        "### YOUR CODE HERE ###\n",
        "\n",
        "hd_run = exp.submit(hyperdrive_config)\n",
        "RunDetails(hd_run).show()\n",
        "hd_run.wait_for_completion(show_output=True)"
      ],
      "outputs": [],
      "execution_count": null,
      "metadata": {
        "gather": {
          "logged": 1613066959841
        }
      }
    },
    {
      "cell_type": "code",
      "source": [
        "import joblib\n",
        "# Get your best run and save the model from that run.\n",
        "\n",
        "### YOUR CODE HERE ###\n",
        "\n",
        "best_run = hd_run.get_best_run_by_primary_metric()\n",
        "parameters = best_run.get_details()['runDefinition']['arguments']\n",
        "joblib.dump(parameters, filename = 'outputs/prh_model_best')\n",
        "\n",
        "# There's a lot of discussion about registering models. \n",
        "# I don't think I need that for P1, but it's a deployment function, right?\n",
        "# Thing is, this is a lot of work going by before you guys give me a first chance for feedback. Too long.\n",
        "\n",
        "# UNCOMMENT IF i NEED TO REGISTER LATER (There's gotta be a better way to do this!)\n",
        "# See also LAST CELL IN THIS NOTEBOOK to uncomment the last line there, too!\n",
        "model = best_run.register_model(model_name = 'prh_model_best', model_path = '.')\n"
      ],
      "outputs": [],
      "execution_count": null,
      "metadata": {
        "gather": {
          "logged": 1613069282393
        },
        "jupyter": {
          "outputs_hidden": false,
          "source_hidden": false
        },
        "nteract": {
          "transient": {
            "deleting": false
          }
        }
      }
    },
    {
      "cell_type": "code",
      "source": [
        "from azureml.data.dataset_factory import TabularDatasetFactory\n",
        "\n",
        "# Create TabularDataset using TabularDatasetFactory\n",
        "# Data is available at: \n",
        "# \"https://automlsamplenotebookdata.blob.core.windows.net/automl-sample-notebook-data/bankmarketing_train.csv\"\n",
        "\n",
        "### YOUR CODE HERE ###\n",
        "\n",
        "# OMG I'm losing my mind! I swear I already did this, and I used a variable def for the path! Aaargh!\n",
        "# This is definitely all running together!!!\n",
        "\n",
        "ds = TabularDatasetFactory.from_delimited_files(path='https://automlsamplenotebookdata.blob.core.windows.net/automl-sample-notebook-data/bankmarketing_train.csv')"
      ],
      "outputs": [],
      "execution_count": 2,
      "metadata": {
        "gather": {
          "logged": 1613073569896
        }
      }
    },
    {
      "cell_type": "code",
      "source": [
        "from train import clean_data\n",
        "# Why did you leave the next object out? \n",
        "# Why isn't this stuff all gathered up in one place, with notes about the architecture?\n",
        "# I don't see how you keep this stuff straight?\n",
        "from sklearn.model_selection import train_test_split\n",
        "\n",
        "# Use the clean_data function to clean your data.\n",
        "x, y = clean_data(ds)\n",
        "x_train, x_test, y_train, y_test = train_test_split(x, y, test_size=0.4)\n",
        "training_prh = x_train.join(y_train)\n",
        "# NAME DEFINED training_prh data set CALL LATER"
      ],
      "outputs": [],
      "execution_count": 3,
      "metadata": {
        "gather": {
          "logged": 1613073622603
        },
        "jupyter": {
          "outputs_hidden": false,
          "source_hidden": false
        },
        "nteract": {
          "transient": {
            "deleting": false
          }
        }
      }
    },
    {
      "cell_type": "code",
      "source": [
        "from azureml.train.automl import AutoMLConfig\n",
        "\n",
        "# Set parameters for AutoMLConfig\n",
        "# NOTE: DO NOT CHANGE THE experiment_timeout_minutes PARAMETER OR YOUR INSTANCE WILL TIME OUT.\n",
        "# If you wish to run the experiment longer, you will need to run this notebook in your own\n",
        "# Azure tenant, which will incur personal costs.\n",
        "automl_config = AutoMLConfig(\n",
        "    experiment_timeout_minutes=30,\n",
        "    task='classification',\n",
        "    primary_metric= 'accuracy',\n",
        "    training_data= training_prh, #from clean data above\n",
        "    label_column_name= 'y',\n",
        "    n_cross_validations= 3)\n",
        "\n",
        "# Cutting specs to the bare bones to fit the exp timeout."
      ],
      "outputs": [],
      "execution_count": 4,
      "metadata": {
        "gather": {
          "logged": 1613073749335
        },
        "jupyter": {
          "outputs_hidden": false,
          "source_hidden": false
        },
        "nteract": {
          "transient": {
            "deleting": false
          }
        }
      }
    },
    {
      "cell_type": "code",
      "source": [
        "# Submit your automl run\n",
        "\n",
        "### YOUR CODE HERE ###\n",
        "prh_exp = Experiment(ws,'prh_model')\n",
        "auto_run = prh_exp.submit(automl_config, show_output = True)"
      ],
      "outputs": [
        {
          "output_type": "stream",
          "name": "stdout",
          "text": [
            "No run_configuration provided, running on local with default configuration\n",
            "Running on local machine\n",
            "Parent Run ID: AutoML_30fda75a-57f3-4c49-b6dd-e4be07db074f\n",
            "\n",
            "Current status: DatasetEvaluation. Gathering dataset statistics.\n",
            "Current status: FeaturesGeneration. Generating features for the dataset.\n",
            "Current status: DatasetFeaturization. Beginning to fit featurizers and featurize the dataset.\n",
            "Current status: DatasetFeaturizationCompleted. Completed fit featurizers and featurizing the dataset.\n",
            "Current status: DatasetBalancing. Performing class balancing sweeping\n",
            "Current status: DatasetCrossValidationSplit. Generating individually featurized CV splits.\n",
            "\n",
            "****************************************************************************************************\n",
            "DATA GUARDRAILS: \n",
            "\n",
            "TYPE:         Class balancing detection\n",
            "STATUS:       ALERTED\n",
            "DESCRIPTION:  To decrease model bias, please cancel the current run and fix balancing problem.\n",
            "              Learn more about imbalanced data: https://aka.ms/AutomatedMLImbalancedData\n",
            "DETAILS:      Imbalanced data can lead to a falsely perceived positive effect of a model's accuracy because the input data has bias towards one class.\n",
            "+---------------------------------+---------------------------------+--------------------------------------+\n",
            "|Size of the smallest class       |Name/Label of the smallest class |Number of samples in the training data|\n",
            "+=================================+=================================+======================================+\n",
            "|2206                             |1                                |19770                                 |\n",
            "+---------------------------------+---------------------------------+--------------------------------------+\n",
            "\n",
            "****************************************************************************************************\n",
            "\n",
            "TYPE:         Missing feature values imputation\n",
            "STATUS:       PASSED\n",
            "DESCRIPTION:  No feature missing values were detected in the training data.\n",
            "              Learn more about missing value imputation: https://aka.ms/AutomatedMLFeaturization\n",
            "\n",
            "****************************************************************************************************\n",
            "\n",
            "TYPE:         High cardinality feature detection\n",
            "STATUS:       PASSED\n",
            "DESCRIPTION:  Your inputs were analyzed, and no high cardinality features were detected.\n",
            "              Learn more about high cardinality feature handling: https://aka.ms/AutomatedMLFeaturization\n",
            "\n",
            "****************************************************************************************************\n",
            "Current status: ModelSelection. Beginning model selection.\n",
            "\n",
            "****************************************************************************************************\n",
            "ITERATION: The iteration being evaluated.\n",
            "PIPELINE: A summary description of the pipeline being evaluated.\n",
            "DURATION: Time taken for the current iteration.\n",
            "METRIC: The result of computing score on the fitted pipeline.\n",
            "BEST: The best observed score thus far.\n",
            "****************************************************************************************************\n",
            "\n",
            " ITERATION   PIPELINE                                       DURATION      METRIC      BEST\n",
            "         0   MaxAbsScaler LightGBM                          0:00:30       0.9110    0.9110\n",
            "         1   MaxAbsScaler XGBoostClassifier                 0:00:41       0.9120    0.9120\n",
            "         2   MaxAbsScaler RandomForest                      0:00:36       0.8923    0.9120\n",
            "         3   MaxAbsScaler RandomForest                      0:00:36       0.8884    0.9120\n",
            "         4   MaxAbsScaler RandomForest                      0:00:36       0.8147    0.9120\n",
            "         5   MaxAbsScaler RandomForest                      0:00:30       0.7912    0.9120\n",
            "         6   SparseNormalizer XGBoostClassifier             0:00:35       0.9110    0.9120\n",
            "         7   MaxAbsScaler GradientBoosting                  0:00:33       0.9032    0.9120\n",
            "         8   StandardScalerWrapper RandomForest             0:00:30       0.9004    0.9120\n",
            "         9   MaxAbsScaler LogisticRegression                0:00:29       0.9073    0.9120\n",
            "        10   MaxAbsScaler LightGBM                          0:00:27       0.8917    0.9120\n",
            "        11   SparseNormalizer XGBoostClassifier             0:00:34       0.9093    0.9120\n",
            "        12   MaxAbsScaler ExtremeRandomTrees                0:01:03       0.8884    0.9120\n",
            "        13   StandardScalerWrapper LightGBM                 0:00:27       0.8884    0.9120\n",
            "        14   SparseNormalizer XGBoostClassifier             0:00:53       0.9105    0.9120\n",
            "        15   StandardScalerWrapper ExtremeRandomTrees       0:00:35       0.8884    0.9120\n",
            "        16   StandardScalerWrapper LightGBM                 0:00:27       0.8884    0.9120\n",
            "        17   StandardScalerWrapper LightGBM                 0:00:28       0.9037    0.9120\n",
            "        18   MaxAbsScaler LightGBM                          0:00:32       0.9037    0.9120\n",
            "        19   SparseNormalizer LightGBM                      0:00:38       0.9119    0.9120\n",
            "        20   SparseNormalizer XGBoostClassifier             0:00:30       0.9110    0.9120\n",
            "        21   MaxAbsScaler LightGBM                          0:00:29       0.9045    0.9120\n",
            "        22   MaxAbsScaler LightGBM                          0:00:29       0.9092    0.9120\n",
            "        23   StandardScalerWrapper LightGBM                 0:00:37       0.9067    0.9120\n",
            "        24   StandardScalerWrapper LightGBM                 0:00:28       0.8930    0.9120\n",
            "        25   SparseNormalizer XGBoostClassifier             0:00:28       0.8884    0.9120\n",
            "        26   SparseNormalizer LightGBM                      0:00:28       0.9098    0.9120\n",
            "        27   SparseNormalizer XGBoostClassifier             0:01:58       0.9100    0.9120\n",
            "        28   MaxAbsScaler LightGBM                          0:00:34       0.9087    0.9120\n",
            "        29   SparseNormalizer XGBoostClassifier             0:00:33       0.9116    0.9120\n",
            "        30   TruncatedSVDWrapper XGBoostClassifier          0:00:34       0.8884    0.9120\n",
            "        31   StandardScalerWrapper XGBoostClassifier        0:00:33       0.9053    0.9120\n",
            "        32   StandardScalerWrapper LightGBM                 0:00:28       0.9101    0.9120\n",
            "        33   MaxAbsScaler LightGBM                          0:00:28       0.9053    0.9120\n",
            "        34   StandardScalerWrapper XGBoostClassifier        0:00:31       0.9112    0.9120\n",
            "        35   StandardScalerWrapper XGBoostClassifier        0:01:01       0.9102    0.9120\n",
            "        36   StandardScalerWrapper XGBoostClassifier        0:00:28       0.8978    0.9120\n",
            "        37   StandardScalerWrapper XGBoostClassifier        0:00:36       0.9125    0.9125\n",
            "        38   SparseNormalizer XGBoostClassifier             0:00:39       0.9126    0.9126\n",
            "        39   SparseNormalizer XGBoostClassifier             0:00:53       0.9069    0.9126\n",
            "        40   SparseNormalizer XGBoostClassifier             0:01:16       0.9105    0.9126\n",
            "        41   MaxAbsScaler LogisticRegression                0:00:41       0.9071    0.9126\n",
            "        42   SparseNormalizer XGBoostClassifier             0:00:38       0.9118    0.9126\n",
            "        43   SparseNormalizer XGBoostClassifier             0:00:57       0.9104    0.9126\n",
            "        44   SparseNormalizer LightGBM                      0:00:41       0.9120    0.9126\n",
            "        45   VotingEnsemble                                 0:00:53       0.9152    0.9152\n",
            "        46   StackEnsemble                                  0:01:00       0.9109    0.9152\n",
            "Stopping criteria reached at iteration 47. Ending experiment.\n",
            "****************************************************************************************************\n",
            "Current status: BestRunExplainModel. Best run model explanations started\n",
            "Current status: ModelExplanationDataSetSetup. Model explanations data setup completed\n",
            "Current status: PickSurrogateModel. Choosing LightGBM as the surrogate model for explanations\n",
            "Current status: EngineeredFeatureExplanations. Computation of engineered features started\n",
            "Current status: EngineeredFeatureExplanations. Computation of engineered features completed\n",
            "Current status: RawFeaturesExplanations. Computation of raw features started\n",
            "Current status: RawFeaturesExplanations. Computation of raw features completed\n",
            "Current status: BestRunExplainModel. Best run model explanations completed\n",
            "****************************************************************************************************\n"
          ]
        }
      ],
      "execution_count": 5,
      "metadata": {
        "jupyter": {
          "outputs_hidden": false,
          "source_hidden": false
        },
        "nteract": {
          "transient": {
            "deleting": false
          }
        },
        "gather": {
          "logged": 1613075996535
        }
      }
    },
    {
      "cell_type": "code",
      "source": [
        "# Retrieve and save your best automl model.\n",
        "import joblib\n",
        "\n",
        "### YOUR CODE HERE ###\n",
        "best_run, fitted_model = auto_run.get_output()\n",
        "joblib.dump(fitted_model, filename = 'outputs/prh_model.joblib')\n",
        "\n",
        "# Uncomment here for registered model. (Ref from cell above.)\n",
        "# model = auto_run.register_model(model_name = 'prh_model')\n",
        "\n",
        "compute_target.delete()"
      ],
      "outputs": [],
      "execution_count": 11,
      "metadata": {
        "gather": {
          "logged": 1613079934379
        }
      }
    }
  ],
  "metadata": {
    "kernel_info": {
      "name": "python3"
    },
    "kernelspec": {
      "name": "python3",
      "language": "python",
      "display_name": "Python 3"
    },
    "language_info": {
      "name": "python",
      "version": "3.6.9",
      "mimetype": "text/x-python",
      "codemirror_mode": {
        "name": "ipython",
        "version": 3
      },
      "pygments_lexer": "ipython3",
      "nbconvert_exporter": "python",
      "file_extension": ".py"
    },
    "nteract": {
      "version": "nteract-front-end@1.0.0"
    }
  },
  "nbformat": 4,
  "nbformat_minor": 2
}